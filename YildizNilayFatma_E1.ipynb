{
 "cells": [
  {
   "cell_type": "markdown",
   "id": "15c7fea6",
   "metadata": {},
   "source": [
    "# 1 Basics"
   ]
  },
  {
   "cell_type": "markdown",
   "id": "59d3fa89",
   "metadata": {},
   "source": [
    "### Exercise 1.1: The interpreter"
   ]
  },
  {
   "cell_type": "markdown",
   "id": "8b21353e",
   "metadata": {},
   "source": [
    "<font color = 'red'>Open the Python interpeter. What happens when you input the following statements:</font>"
   ]
  },
  {
   "cell_type": "code",
   "execution_count": 1,
   "id": "b90d8c5d",
   "metadata": {},
   "outputs": [
    {
     "data": {
      "text/plain": [
       "4"
      ]
     },
     "execution_count": 1,
     "metadata": {},
     "output_type": "execute_result"
    }
   ],
   "source": [
    "#a)\n",
    "3 + 1"
   ]
  },
  {
   "cell_type": "code",
   "execution_count": 2,
   "id": "03440204",
   "metadata": {},
   "outputs": [
    {
     "data": {
      "text/plain": [
       "9"
      ]
     },
     "execution_count": 2,
     "metadata": {},
     "output_type": "execute_result"
    }
   ],
   "source": [
    "#b)\n",
    "3 * 3"
   ]
  },
  {
   "cell_type": "code",
   "execution_count": 3,
   "id": "c1fcc432",
   "metadata": {},
   "outputs": [
    {
     "data": {
      "text/plain": [
       "8"
      ]
     },
     "execution_count": 3,
     "metadata": {},
     "output_type": "execute_result"
    }
   ],
   "source": [
    "#c)\n",
    "2 ** 3"
   ]
  },
  {
   "cell_type": "code",
   "execution_count": 4,
   "id": "51cd9ab1",
   "metadata": {},
   "outputs": [
    {
     "data": {
      "text/plain": [
       "'Hello, world!'"
      ]
     },
     "execution_count": 4,
     "metadata": {},
     "output_type": "execute_result"
    }
   ],
   "source": [
    "#d)\n",
    "\"Hello, world!\""
   ]
  },
  {
   "attachments": {
    "Ads%C4%B1z.png": {
     "image/png": "[encoded data removed]"
    }
   },
   "cell_type": "markdown",
   "id": "f66382b4",
   "metadata": {},
   "source": [
    "![Ads%C4%B1z.png](attachment:Ads%C4%B1z.png)"
   ]
  },
  {
   "cell_type": "markdown",
   "id": "d8b84c98",
   "metadata": {},
   "source": [
    "* <font color = 'green'>Answer:</font>\n",
    "    Python printed the results of math operations and the text which is hello world."
   ]
  },
  {
   "cell_type": "markdown",
   "id": "dc4f9a2a",
   "metadata": {},
   "source": [
    "### Exercise 1.2: Scripts"
   ]
  },
  {
   "cell_type": "markdown",
   "id": "49c2c094",
   "metadata": {},
   "source": [
    "<font color = 'red'>Now copy the above to a script, and save it as script1.py. What happens if you run the script? (try:\n",
    "python script1.py). Can you fix this (hint: use the print function)</font>"
   ]
  },
  {
   "attachments": {
    "script.png": {
     "image/png": "[encoded data removed]"
    }
   },
   "cell_type": "markdown",
   "id": "a86e80f7",
   "metadata": {},
   "source": [
    "Before\n",
    "![script.png](attachment:script.png)"
   ]
  },
  {
   "attachments": {
    "script12.png": {
     "image/png": "[encoded data removed]"
    }
   },
   "cell_type": "markdown",
   "id": "2f22bfa3",
   "metadata": {},
   "source": [
    "Using print function\n",
    "![script12.png](attachment:script12.png)"
   ]
  },
  {
   "attachments": {
    "script1.png": {
     "image/png": "[encoded data removed]"
    }
   },
   "cell_type": "markdown",
   "id": "af1331d2",
   "metadata": {},
   "source": [
    "After\n",
    "![script1.png](attachment:script1.png)"
   ]
  },
  {
   "cell_type": "markdown",
   "id": "b400850c",
   "metadata": {},
   "source": [
    "### Exercise 1.3: More interpreter"
   ]
  },
  {
   "cell_type": "markdown",
   "id": "026cde02",
   "metadata": {},
   "source": [
    "<font color = 'red'>Explain the output of the following statements if executed subsequently:</font>"
   ]
  },
  {
   "cell_type": "code",
   "execution_count": 5,
   "id": "6bdb8df4",
   "metadata": {},
   "outputs": [
    {
     "data": {
      "text/plain": [
       "'python'"
      ]
     },
     "execution_count": 5,
     "metadata": {},
     "output_type": "execute_result"
    }
   ],
   "source": [
    "#a)\n",
    "#We combined \"py\" and \"thon\".\n",
    "\"py\" + \"thon\""
   ]
  },
  {
   "cell_type": "code",
   "execution_count": 6,
   "id": "d0f1e41b",
   "metadata": {},
   "outputs": [
    {
     "data": {
      "text/plain": [
       "'pypypython'"
      ]
     },
     "execution_count": 6,
     "metadata": {},
     "output_type": "execute_result"
    }
   ],
   "source": [
    "#b)\n",
    "#We got \"pypypy\" by multiplying \"py\" 3 times and combined it with thon.\n",
    "\"py\" * 3 + \"thon\""
   ]
  },
  {
   "cell_type": "code",
   "execution_count": 7,
   "id": "0c0b2db5",
   "metadata": {},
   "outputs": [
    {
     "ename": "TypeError",
     "evalue": "unsupported operand type(s) for -: 'str' and 'str'",
     "output_type": "error",
     "traceback": [
      "\u001b[1;31m---------------------------------------------------------------------------\u001b[0m",
      "\u001b[1;31mTypeError\u001b[0m                                 Traceback (most recent call last)",
      "\u001b[1;32m~\\AppData\\Local\\Temp/ipykernel_8652/901503878.py\u001b[0m in \u001b[0;36m<module>\u001b[1;34m\u001b[0m\n\u001b[0;32m      1\u001b[0m \u001b[1;31m#c)\u001b[0m\u001b[1;33m\u001b[0m\u001b[1;33m\u001b[0m\u001b[0m\n\u001b[0;32m      2\u001b[0m \u001b[1;31m#We have an error because string type is not suitable for this operator\u001b[0m\u001b[1;33m\u001b[0m\u001b[1;33m\u001b[0m\u001b[0m\n\u001b[1;32m----> 3\u001b[1;33m \u001b[1;34m\"py\"\u001b[0m \u001b[1;33m-\u001b[0m \u001b[1;34m\"py\"\u001b[0m\u001b[1;33m\u001b[0m\u001b[1;33m\u001b[0m\u001b[0m\n\u001b[0m",
      "\u001b[1;31mTypeError\u001b[0m: unsupported operand type(s) for -: 'str' and 'str'"
     ]
    }
   ],
   "source": [
    "#c)\n",
    "#We have an error because string type is not suitable for this operator\n",
    "\"py\" - \"py\""
   ]
  },
  {
   "cell_type": "code",
   "execution_count": 8,
   "id": "968d9e4f",
   "metadata": {},
   "outputs": [
    {
     "ename": "TypeError",
     "evalue": "can only concatenate str (not \"int\") to str",
     "output_type": "error",
     "traceback": [
      "\u001b[1;31m---------------------------------------------------------------------------\u001b[0m",
      "\u001b[1;31mTypeError\u001b[0m                                 Traceback (most recent call last)",
      "\u001b[1;32m~\\AppData\\Local\\Temp/ipykernel_8652/3119977640.py\u001b[0m in \u001b[0;36m<module>\u001b[1;34m\u001b[0m\n\u001b[0;32m      1\u001b[0m \u001b[1;31m#d)\u001b[0m\u001b[1;33m\u001b[0m\u001b[1;33m\u001b[0m\u001b[0m\n\u001b[0;32m      2\u001b[0m \u001b[1;31m#We have an error because we can't sum string and number. Type str can only concatenate with str.\u001b[0m\u001b[1;33m\u001b[0m\u001b[1;33m\u001b[0m\u001b[0m\n\u001b[1;32m----> 3\u001b[1;33m \u001b[1;34m\"3\"\u001b[0m \u001b[1;33m+\u001b[0m \u001b[1;36m3\u001b[0m\u001b[1;33m\u001b[0m\u001b[1;33m\u001b[0m\u001b[0m\n\u001b[0m",
      "\u001b[1;31mTypeError\u001b[0m: can only concatenate str (not \"int\") to str"
     ]
    }
   ],
   "source": [
    "#d)\n",
    "#We have an error because we can't sum string and number. Type str can only concatenate with str.\n",
    "\"3\" + 3"
   ]
  },
  {
   "cell_type": "code",
   "execution_count": 9,
   "id": "f70d771f",
   "metadata": {},
   "outputs": [
    {
     "data": {
      "text/plain": [
       "'333'"
      ]
     },
     "execution_count": 9,
     "metadata": {},
     "output_type": "execute_result"
    }
   ],
   "source": [
    "#e)\n",
    "#We multiplied \"3\" by itself three times and we have gotten \"333\".\n",
    "3 * \"3\""
   ]
  },
  {
   "cell_type": "code",
   "execution_count": 10,
   "id": "06082df6",
   "metadata": {},
   "outputs": [
    {
     "ename": "NameError",
     "evalue": "name 'a' is not defined",
     "output_type": "error",
     "traceback": [
      "\u001b[1;31m---------------------------------------------------------------------------\u001b[0m",
      "\u001b[1;31mNameError\u001b[0m                                 Traceback (most recent call last)",
      "\u001b[1;32m~\\AppData\\Local\\Temp/ipykernel_8652/2960369465.py\u001b[0m in \u001b[0;36m<module>\u001b[1;34m\u001b[0m\n\u001b[0;32m      1\u001b[0m \u001b[1;31m#f)\u001b[0m\u001b[1;33m\u001b[0m\u001b[1;33m\u001b[0m\u001b[0m\n\u001b[0;32m      2\u001b[0m \u001b[1;31m#We have an error because we haven't defined 'a' before.\u001b[0m\u001b[1;33m\u001b[0m\u001b[1;33m\u001b[0m\u001b[0m\n\u001b[1;32m----> 3\u001b[1;33m \u001b[0ma\u001b[0m\u001b[1;33m\u001b[0m\u001b[1;33m\u001b[0m\u001b[0m\n\u001b[0m",
      "\u001b[1;31mNameError\u001b[0m: name 'a' is not defined"
     ]
    }
   ],
   "source": [
    "#f)\n",
    "#We have an error because we haven't defined 'a' before.\n",
    "a"
   ]
  },
  {
   "cell_type": "code",
   "execution_count": 11,
   "id": "f610f764",
   "metadata": {},
   "outputs": [],
   "source": [
    "#g)\n",
    "#We have assigned the value 3 to variable a.\n",
    "a = 3"
   ]
  },
  {
   "cell_type": "code",
   "execution_count": 12,
   "id": "2ade5012",
   "metadata": {},
   "outputs": [
    {
     "data": {
      "text/plain": [
       "3"
      ]
     },
     "execution_count": 12,
     "metadata": {},
     "output_type": "execute_result"
    }
   ],
   "source": [
    "#h)\n",
    "#The value of a is printed.\n",
    "a"
   ]
  },
  {
   "cell_type": "markdown",
   "id": "19fe2fd4",
   "metadata": {},
   "source": [
    "### Exercise 1.4: Booleans"
   ]
  },
  {
   "cell_type": "markdown",
   "id": "e018c42f",
   "metadata": {},
   "source": [
    "<font color = 'red'>Explain the output of the following statements:</font>"
   ]
  },
  {
   "cell_type": "code",
   "execution_count": 13,
   "id": "c86f451c",
   "metadata": {},
   "outputs": [
    {
     "data": {
      "text/plain": [
       "True"
      ]
     },
     "execution_count": 13,
     "metadata": {},
     "output_type": "execute_result"
    }
   ],
   "source": [
    "#a)\n",
    "#Output is true because 1 is equal to 1. The output is boolean.\n",
    "1 == 1"
   ]
  },
  {
   "cell_type": "code",
   "execution_count": 14,
   "id": "dbd3cc33",
   "metadata": {},
   "outputs": [
    {
     "data": {
      "text/plain": [
       "True"
      ]
     },
     "execution_count": 14,
     "metadata": {},
     "output_type": "execute_result"
    }
   ],
   "source": [
    "#b)\n",
    "#Output true because a value of 1 is equal to \"True\" in computer science.\n",
    "#In here, we checked whether 1 is equal to \"True\".\n",
    "1 == True"
   ]
  },
  {
   "cell_type": "code",
   "execution_count": 15,
   "id": "179c073b",
   "metadata": {},
   "outputs": [
    {
     "data": {
      "text/plain": [
       "False"
      ]
     },
     "execution_count": 15,
     "metadata": {},
     "output_type": "execute_result"
    }
   ],
   "source": [
    "#c)\n",
    "#Output false because a value of 0 is equal to \"False\" in computer science.\n",
    "#In here, we checked whether 0 is equal to \"True\".\n",
    "0 == True"
   ]
  },
  {
   "cell_type": "code",
   "execution_count": 16,
   "id": "ddff6fa4",
   "metadata": {},
   "outputs": [
    {
     "data": {
      "text/plain": [
       "True"
      ]
     },
     "execution_count": 16,
     "metadata": {},
     "output_type": "execute_result"
    }
   ],
   "source": [
    "#d)\n",
    "#Output true because a value of 0 is equal to \"False\" in computer science.\n",
    "#In here, we checked whether 0 is equal to \"False\".\n",
    "0 == False"
   ]
  },
  {
   "cell_type": "code",
   "execution_count": 17,
   "id": "64ded784",
   "metadata": {},
   "outputs": [
    {
     "data": {
      "text/plain": [
       "True"
      ]
     },
     "execution_count": 17,
     "metadata": {},
     "output_type": "execute_result"
    }
   ],
   "source": [
    "#e)\n",
    "#If we multiply 1 and 3, result will be 3. So 3 equals 3, the output will be \"True\".\n",
    "3 == 1 * 3"
   ]
  },
  {
   "cell_type": "code",
   "execution_count": 18,
   "id": "b6744c4c",
   "metadata": {},
   "outputs": [
    {
     "data": {
      "text/plain": [
       "0"
      ]
     },
     "execution_count": 18,
     "metadata": {},
     "output_type": "execute_result"
    }
   ],
   "source": [
    "#f)\n",
    "#3 is not equal to 1. Therefore, the value inside the parenthesis will be \"False\" -> 0. Multiplying 0 by 3 will give us 0.\n",
    "(3 == 1) * 3"
   ]
  },
  {
   "cell_type": "code",
   "execution_count": 19,
   "id": "c10bca24",
   "metadata": {},
   "outputs": [
    {
     "data": {
      "text/plain": [
       "False"
      ]
     },
     "execution_count": 19,
     "metadata": {},
     "output_type": "execute_result"
    }
   ],
   "source": [
    "#g)\n",
    "#3 is equal to 3. Therefore, the value inside the parenthesis will be \"True\" -> 1. Multiplying 1 by 4 will give us 4. If we sum \n",
    "#4 and 3, the result will be 7 but 7 is not equal to 1. Therefore, output is \"False\".\n",
    "(3 == 3) * 4 + 3 == 1"
   ]
  },
  {
   "cell_type": "code",
   "execution_count": 20,
   "id": "97331b5f",
   "metadata": {},
   "outputs": [
    {
     "data": {
      "text/plain": [
       "False"
      ]
     },
     "execution_count": 20,
     "metadata": {},
     "output_type": "execute_result"
    }
   ],
   "source": [
    "#h)\n",
    "#3 to the power of 5 is equal to 243. \n",
    "#4 to the power of 4 is equal to 256.\n",
    "#So, 243 in not equal or bigger than 256.\n",
    "3**5 >= 4**4"
   ]
  },
  {
   "cell_type": "markdown",
   "id": "acb8832e",
   "metadata": {},
   "source": [
    "### Exercise 1.5: Integers"
   ]
  },
  {
   "cell_type": "markdown",
   "id": "0dc7b9ae",
   "metadata": {},
   "source": [
    "<font color = 'red'>Explain the output of the following statements:</font>"
   ]
  },
  {
   "cell_type": "code",
   "execution_count": 21,
   "id": "0befbc47",
   "metadata": {},
   "outputs": [
    {
     "data": {
      "text/plain": [
       "1.6666666666666667"
      ]
     },
     "execution_count": 21,
     "metadata": {},
     "output_type": "execute_result"
    }
   ],
   "source": [
    "#a)\n",
    "#Dividing 5 by 3 and the result will be float number.\n",
    "5 / 3"
   ]
  },
  {
   "cell_type": "code",
   "execution_count": 22,
   "id": "a0f012a0",
   "metadata": {},
   "outputs": [
    {
     "data": {
      "text/plain": [
       "2"
      ]
     },
     "execution_count": 22,
     "metadata": {},
     "output_type": "execute_result"
    }
   ],
   "source": [
    "#b)\n",
    "#It gives the remainder when we divide 5 by 3.\n",
    "5 % 3"
   ]
  },
  {
   "cell_type": "code",
   "execution_count": 23,
   "id": "64f4caa7",
   "metadata": {},
   "outputs": [
    {
     "data": {
      "text/plain": [
       "1.6666666666666667"
      ]
     },
     "execution_count": 23,
     "metadata": {},
     "output_type": "execute_result"
    }
   ],
   "source": [
    "#c)\n",
    "#/ is the division operator and returns the type of the output as float.\n",
    "5.0 / 3"
   ]
  },
  {
   "cell_type": "code",
   "execution_count": 24,
   "id": "380c5769",
   "metadata": {},
   "outputs": [
    {
     "data": {
      "text/plain": [
       "1.6666666666666667"
      ]
     },
     "execution_count": 24,
     "metadata": {},
     "output_type": "execute_result"
    }
   ],
   "source": [
    "#d)\n",
    "5 / 3.0"
   ]
  },
  {
   "cell_type": "code",
   "execution_count": 25,
   "id": "49d9f48d",
   "metadata": {},
   "outputs": [
    {
     "data": {
      "text/plain": [
       "2.2"
      ]
     },
     "execution_count": 25,
     "metadata": {},
     "output_type": "execute_result"
    }
   ],
   "source": [
    "#e)\n",
    "#Since 5.2 is of float type, the remainder of the division of 5.2 by 3 is returned as float.\n",
    "5.2 % 3"
   ]
  },
  {
   "cell_type": "code",
   "execution_count": 26,
   "id": "6d5c6d30",
   "metadata": {},
   "outputs": [
    {
     "data": {
      "text/plain": [
       "1775896810483121914350934797871501063452843428843794422323202530887281536545210629921129898113201749875234297340507804201761453596034016264189501186924066128377025843892373608427790859511135990682732202975330824797118808624727351608183194154557208730494440110429635650057431833674286462463508755276302896154336475782768613964332764108132533925570342220340698973761380541294970139762186212823359128790706292900765512137078550033912252338262922477518858757114840012576514724742388124595061301502222934806074032688691170880996881967426442947828261057852871032366879179996122216385870273020506079240103910728766397733398071775041745854959302025036249707279600400001"
      ]
     },
     "execution_count": 26,
     "metadata": {},
     "output_type": "execute_result"
    }
   ],
   "source": [
    "#f)\n",
    "##2001 to the power of 200 is equal to this output. \n",
    "2001 ** 200"
   ]
  },
  {
   "cell_type": "markdown",
   "id": "c53d7c3e",
   "metadata": {},
   "source": [
    "### Exercise 1.6: Floats"
   ]
  },
  {
   "cell_type": "markdown",
   "id": "fe3c6743",
   "metadata": {},
   "source": [
    "<font color = 'red'>Explain the output of the following statements:</font>"
   ]
  },
  {
   "cell_type": "code",
   "execution_count": 27,
   "id": "6e3ea300",
   "metadata": {},
   "outputs": [
    {
     "ename": "OverflowError",
     "evalue": "(34, 'Result too large')",
     "output_type": "error",
     "traceback": [
      "\u001b[1;31m---------------------------------------------------------------------------\u001b[0m",
      "\u001b[1;31mOverflowError\u001b[0m                             Traceback (most recent call last)",
      "\u001b[1;32m~\\AppData\\Local\\Temp/ipykernel_8652/3212441379.py\u001b[0m in \u001b[0;36m<module>\u001b[1;34m\u001b[0m\n\u001b[0;32m      2\u001b[0m \u001b[1;31m#We reached the limits of float support.So, we have an error.\u001b[0m\u001b[1;33m\u001b[0m\u001b[1;33m\u001b[0m\u001b[0m\n\u001b[0;32m      3\u001b[0m \u001b[1;31m#We didn't get the same error in above cell because the type of the numbers is integer.\u001b[0m\u001b[1;33m\u001b[0m\u001b[1;33m\u001b[0m\u001b[0m\n\u001b[1;32m----> 4\u001b[1;33m \u001b[1;36m2000.3\u001b[0m \u001b[1;33m**\u001b[0m \u001b[1;36m200\u001b[0m\u001b[1;33m\u001b[0m\u001b[1;33m\u001b[0m\u001b[0m\n\u001b[0m",
      "\u001b[1;31mOverflowError\u001b[0m: (34, 'Result too large')"
     ]
    }
   ],
   "source": [
    "#a)\n",
    "#We reached the limits of float support.So, we have an error.\n",
    "#We didn't get the same error in above cell because the type of the numbers is integer.\n",
    "2000.3 ** 200"
   ]
  },
  {
   "cell_type": "code",
   "execution_count": 28,
   "id": "405a0485",
   "metadata": {},
   "outputs": [
    {
     "data": {
      "text/plain": [
       "1.0"
      ]
     },
     "execution_count": 28,
     "metadata": {},
     "output_type": "execute_result"
    }
   ],
   "source": [
    "#b)\n",
    "#We did a simple addition and subtraction with float numbers.\n",
    "#1.0 + 1.0 = 2.0\n",
    "#2.0 - 1.0 = 1.0\n",
    "1.0 + 1.0 - 1.0"
   ]
  },
  {
   "cell_type": "code",
   "execution_count": 29,
   "id": "8038c096",
   "metadata": {},
   "outputs": [
    {
     "data": {
      "text/plain": [
       "0.0"
      ]
     },
     "execution_count": 29,
     "metadata": {},
     "output_type": "execute_result"
    }
   ],
   "source": [
    "#c)\n",
    "#The actual result is 1.0, but in double precision, this will result in 0.0. \n",
    "1.0 + 1.0e20 - 1.0e20"
   ]
  },
  {
   "cell_type": "markdown",
   "id": "cdc5172e",
   "metadata": {},
   "source": [
    "### Exercise 1.7: Variables"
   ]
  },
  {
   "cell_type": "markdown",
   "id": "a9678da7",
   "metadata": {},
   "source": [
    "<font color = 'red'>Write a script where the variable name holds a string with your name. Then, assuming for now your\n",
    "name is John Doe, have the script output: Hello, John Doe! (and obviously, do not use print \"Hello,\n",
    "John Doe!\".\n",
    "</font>"
   ]
  },
  {
   "cell_type": "code",
   "execution_count": 2,
   "id": "33b22f6f",
   "metadata": {},
   "outputs": [
    {
     "name": "stdout",
     "output_type": "stream",
     "text": [
      "Hello Nilay Fatma Yıldız!\n"
     ]
    }
   ],
   "source": [
    "name = \"Nilay Fatma Yıldız\"\n",
    "print(\"Hello \" + name + \"!\")"
   ]
  },
  {
   "cell_type": "markdown",
   "id": "9aad98db",
   "metadata": {},
   "source": [
    "### Exercise 1.8: Type casting"
   ]
  },
  {
   "cell_type": "code",
   "execution_count": 30,
   "id": "c2aa17b9",
   "metadata": {},
   "outputs": [
    {
     "data": {
      "text/plain": [
       "123.0"
      ]
     },
     "execution_count": 30,
     "metadata": {},
     "output_type": "execute_result"
    }
   ],
   "source": [
    "#a)\n",
    "#Converts the integer 123 to float.\n",
    "float(123) "
   ]
  },
  {
   "cell_type": "code",
   "execution_count": 31,
   "id": "733d63c9",
   "metadata": {},
   "outputs": [
    {
     "data": {
      "text/plain": [
       "123.0"
      ]
     },
     "execution_count": 31,
     "metadata": {},
     "output_type": "execute_result"
    }
   ],
   "source": [
    "#b)\n",
    "#Converts the string 123 to float.\n",
    "float(\"123\")"
   ]
  },
  {
   "cell_type": "code",
   "execution_count": 32,
   "id": "be7e7512",
   "metadata": {},
   "outputs": [
    {
     "data": {
      "text/plain": [
       "123.23"
      ]
     },
     "execution_count": 32,
     "metadata": {},
     "output_type": "execute_result"
    }
   ],
   "source": [
    "#c)\n",
    "#Converts the string 123.23 to float.\n",
    "float(\"123.23\")"
   ]
  },
  {
   "cell_type": "code",
   "execution_count": 33,
   "id": "3266408f",
   "metadata": {},
   "outputs": [
    {
     "data": {
      "text/plain": [
       "123"
      ]
     },
     "execution_count": 33,
     "metadata": {},
     "output_type": "execute_result"
    }
   ],
   "source": [
    "#d)\n",
    "#Converts the float 123.23 to integer.\n",
    "int(123.23)"
   ]
  },
  {
   "cell_type": "code",
   "execution_count": 34,
   "id": "ac823753",
   "metadata": {},
   "outputs": [
    {
     "ename": "ValueError",
     "evalue": "invalid literal for int() with base 10: '123.23'",
     "output_type": "error",
     "traceback": [
      "\u001b[1;31m---------------------------------------------------------------------------\u001b[0m",
      "\u001b[1;31mValueError\u001b[0m                                Traceback (most recent call last)",
      "\u001b[1;32m~\\AppData\\Local\\Temp/ipykernel_8652/2332718950.py\u001b[0m in \u001b[0;36m<module>\u001b[1;34m\u001b[0m\n\u001b[0;32m      1\u001b[0m \u001b[1;31m#e)\u001b[0m\u001b[1;33m\u001b[0m\u001b[1;33m\u001b[0m\u001b[0m\n\u001b[0;32m      2\u001b[0m \u001b[1;31m#There is an error because we have to convert this string to float, after that we can convert this float to integer.\u001b[0m\u001b[1;33m\u001b[0m\u001b[1;33m\u001b[0m\u001b[0m\n\u001b[1;32m----> 3\u001b[1;33m \u001b[0mint\u001b[0m\u001b[1;33m(\u001b[0m\u001b[1;34m\"123.23\"\u001b[0m\u001b[1;33m)\u001b[0m\u001b[1;33m\u001b[0m\u001b[1;33m\u001b[0m\u001b[0m\n\u001b[0m",
      "\u001b[1;31mValueError\u001b[0m: invalid literal for int() with base 10: '123.23'"
     ]
    }
   ],
   "source": [
    "#e)\n",
    "#There is an error because we have to convert this string to float, after that we can convert this float to integer.\n",
    "int(\"123.23\")"
   ]
  },
  {
   "cell_type": "code",
   "execution_count": 35,
   "id": "6d6651b5",
   "metadata": {},
   "outputs": [
    {
     "data": {
      "text/plain": [
       "123"
      ]
     },
     "execution_count": 35,
     "metadata": {},
     "output_type": "execute_result"
    }
   ],
   "source": [
    "#f)\n",
    "#Converts this string to float first, after that converts this float to integer.\n",
    "int(float(\"123.23\"))"
   ]
  },
  {
   "cell_type": "code",
   "execution_count": 36,
   "id": "8200c2d3",
   "metadata": {},
   "outputs": [
    {
     "data": {
      "text/plain": [
       "'12'"
      ]
     },
     "execution_count": 36,
     "metadata": {},
     "output_type": "execute_result"
    }
   ],
   "source": [
    "#g)\n",
    "#Converts int to string.\n",
    "str(12)"
   ]
  },
  {
   "cell_type": "code",
   "execution_count": 37,
   "id": "ea04cd05",
   "metadata": {},
   "outputs": [
    {
     "data": {
      "text/plain": [
       "'12.2'"
      ]
     },
     "execution_count": 37,
     "metadata": {},
     "output_type": "execute_result"
    }
   ],
   "source": [
    "#h)\n",
    "#Converts this float to string.\n",
    "str(12.2)"
   ]
  },
  {
   "cell_type": "code",
   "execution_count": 38,
   "id": "dd47a4c2",
   "metadata": {},
   "outputs": [
    {
     "data": {
      "text/plain": [
       "True"
      ]
     },
     "execution_count": 38,
     "metadata": {},
     "output_type": "execute_result"
    }
   ],
   "source": [
    "#i)\n",
    "#Returns True as \"a\" is a non-zero value\n",
    "bool(\"a\")"
   ]
  },
  {
   "cell_type": "code",
   "execution_count": 39,
   "id": "2b25597a",
   "metadata": {},
   "outputs": [
    {
     "data": {
      "text/plain": [
       "False"
      ]
     },
     "execution_count": 39,
     "metadata": {},
     "output_type": "execute_result"
    }
   ],
   "source": [
    "#j)\n",
    "#Returns False as it is a zero value\n",
    "bool(0)"
   ]
  },
  {
   "cell_type": "code",
   "execution_count": 40,
   "id": "f14e3f8f",
   "metadata": {},
   "outputs": [
    {
     "data": {
      "text/plain": [
       "True"
      ]
     },
     "execution_count": 40,
     "metadata": {},
     "output_type": "execute_result"
    }
   ],
   "source": [
    "#k)\n",
    "#Returns True as 0.1 is a non-zero value\n",
    "bool(0.1)"
   ]
  },
  {
   "cell_type": "markdown",
   "id": "4a3782ce",
   "metadata": {},
   "source": [
    "# 2 Control flow"
   ]
  },
  {
   "cell_type": "markdown",
   "id": "afb8c84e",
   "metadata": {},
   "source": [
    "### Exercise 2.1: Range"
   ]
  },
  {
   "cell_type": "markdown",
   "id": "7ad8cb36",
   "metadata": {},
   "source": [
    "<font color = \"red\">Type range(5) in the interpreter, what does the interpreter return? So what does for i in range(5)\n",
    "mean?</font>"
   ]
  },
  {
   "cell_type": "code",
   "execution_count": 54,
   "id": "53583bd8",
   "metadata": {},
   "outputs": [
    {
     "data": {
      "text/plain": [
       "range(0, 5)"
      ]
     },
     "execution_count": 54,
     "metadata": {},
     "output_type": "execute_result"
    }
   ],
   "source": [
    "#range() is the function to iterate over a sequence of numbers.\n",
    "range(5)"
   ]
  },
  {
   "cell_type": "code",
   "execution_count": 49,
   "id": "e2629434",
   "metadata": {
    "scrolled": true
   },
   "outputs": [
    {
     "ename": "SyntaxError",
     "evalue": "invalid syntax (Temp/ipykernel_16592/1829303750.py, line 3)",
     "output_type": "error",
     "traceback": [
      "\u001b[1;36m  File \u001b[1;32m\"C:\\Users\\nilay\\AppData\\Local\\Temp/ipykernel_16592/1829303750.py\"\u001b[1;36m, line \u001b[1;32m3\u001b[0m\n\u001b[1;33m    for i in range(5)\u001b[0m\n\u001b[1;37m                     ^\u001b[0m\n\u001b[1;31mSyntaxError\u001b[0m\u001b[1;31m:\u001b[0m invalid syntax\n"
     ]
    }
   ],
   "source": [
    "#This is an object which is capable of producing the numbers from 0 to 4. So we can iterate these with for loop. \n",
    "#for statement iterates over the members of a sequence in order, executing the block each time.\n",
    "for i in range(5)"
   ]
  },
  {
   "cell_type": "code",
   "execution_count": 56,
   "id": "d9fbe750",
   "metadata": {},
   "outputs": [
    {
     "data": {
      "text/plain": [
       "range"
      ]
     },
     "execution_count": 56,
     "metadata": {},
     "output_type": "execute_result"
    }
   ],
   "source": [
    "#We can verify the data type of range() using the type(range(5)) function.\n",
    "type(range(5))"
   ]
  },
  {
   "cell_type": "markdown",
   "id": "f58a3eb4",
   "metadata": {},
   "source": [
    "### Exercise 2.2: For loops"
   ]
  },
  {
   "cell_type": "code",
   "execution_count": 41,
   "id": "c9ebfc6f",
   "metadata": {},
   "outputs": [
    {
     "name": "stdout",
     "output_type": "stream",
     "text": [
      "0 1 2 3 4 5 6 7 8 9 10 11 12 13 14 15 16 17 18 19 20 21 22 23 24 25 26 27 28 29 30 31 32 33 34 35 36 37 38 39 40 41 42 43 44 45 46 47 48 49 50 51 52 53 54 55 56 57 58 59 60 61 62 63 64 65 66 67 68 69 70 71 72 73 74 75 76 77 78 79 80 81 82 83 84 85 86 87 88 89 90 91 92 93 94 95 96 97 98 99 100 "
     ]
    }
   ],
   "source": [
    "#a)\n",
    "#Print the numbers 0 to 100\n",
    "for i in range(0, 101):\n",
    "    print(i, end=' ')"
   ]
  },
  {
   "cell_type": "code",
   "execution_count": 42,
   "id": "9df98e3c",
   "metadata": {},
   "outputs": [
    {
     "name": "stdout",
     "output_type": "stream",
     "text": [
      "0 7 14 21 28 35 42 49 56 63 70 77 84 91 98 "
     ]
    }
   ],
   "source": [
    "#b)\n",
    "#Print the numbers 0 to 100 that are divisible by 7\n",
    "for i in range(0, 101):\n",
    "    if i % 7 == 0:\n",
    "        print(i, end=' ')"
   ]
  },
  {
   "cell_type": "code",
   "execution_count": 43,
   "id": "309bfb51",
   "metadata": {},
   "outputs": [
    {
     "name": "stdout",
     "output_type": "stream",
     "text": [
      "5 10 20 25 35 40 50 55 65 70 80 85 95 100 "
     ]
    }
   ],
   "source": [
    "#c)\n",
    "#Print the numbers 1 to 100 that are divisible by 5 but not by 3\n",
    "for i in range(0, 101):\n",
    "    if(i % 5 == 0 and i % 3 != 0):\n",
    "        print(i, end=' ')"
   ]
  },
  {
   "cell_type": "code",
   "execution_count": 44,
   "id": "0f40b4b0",
   "metadata": {},
   "outputs": [
    {
     "name": "stdout",
     "output_type": "stream",
     "text": [
      "2= \n",
      "3= \n",
      "4= 2 \n",
      "5= \n",
      "6= 2 3 \n",
      "7= \n",
      "8= 2 4 \n",
      "9= 3 \n",
      "10= 2 5 \n",
      "11= \n",
      "12= 2 3 4 6 \n",
      "13= \n",
      "14= 2 7 \n",
      "15= 3 5 \n",
      "16= 2 4 8 \n",
      "17= \n",
      "18= 2 3 6 9 \n",
      "19= \n",
      "20= 2 4 5 10 \n"
     ]
    }
   ],
   "source": [
    "#d)\n",
    "#Print for each of the numbers x = 2, . . . 20, all numbers that divide x, excluding 1 and x. Hence,\n",
    "#for 18, it should print 2 3 6 9.\n",
    "for x in range(2, 21):\n",
    "    string = str(x) + \"= \"\n",
    "    for i in range(2, x):\n",
    "        if(x % i == 0):\n",
    "            string += str(i) + \" \"\n",
    "    print(string)       "
   ]
  },
  {
   "cell_type": "markdown",
   "id": "18d07084",
   "metadata": {},
   "source": [
    "### Exercise 2.3: Simple while loops"
   ]
  },
  {
   "cell_type": "code",
   "execution_count": 45,
   "id": "3e9342b7",
   "metadata": {},
   "outputs": [
    {
     "name": "stdout",
     "output_type": "stream",
     "text": [
      "0 1 2 3 4 5 6 7 8 9 10 11 12 13 14 15 16 17 18 19 20 21 22 23 24 25 26 27 28 29 30 31 32 33 34 35 36 37 38 39 40 41 42 43 44 45 46 47 48 49 50 51 52 53 54 55 56 57 58 59 60 61 62 63 64 65 66 67 68 69 70 71 72 73 74 75 76 77 78 79 80 81 82 83 84 85 86 87 88 89 90 91 92 93 94 95 96 97 98 99 100 "
     ]
    }
   ],
   "source": [
    "#a)\n",
    "#Print the numbers 0 to 100\n",
    "n = 0\n",
    "while n <= 100:\n",
    "    print(n, end=' ')\n",
    "    n = n+1"
   ]
  },
  {
   "cell_type": "code",
   "execution_count": 46,
   "id": "31ef2f65",
   "metadata": {},
   "outputs": [
    {
     "name": "stdout",
     "output_type": "stream",
     "text": [
      "0 7 14 21 28 35 42 49 56 63 70 77 84 91 98 "
     ]
    }
   ],
   "source": [
    "#b)\n",
    "#Print the numbers 0 to 100 that are divisible by 7\n",
    "n = 0\n",
    "while n <= 100:\n",
    "    if(n % 7 == 0):\n",
    "        print(n, end=' ')\n",
    "    n = n+1"
   ]
  },
  {
   "cell_type": "markdown",
   "id": "b07e4796",
   "metadata": {},
   "source": [
    "### Exercise 2.4: Hangman update 1"
   ]
  },
  {
   "cell_type": "code",
   "execution_count": 65,
   "id": "af0a5fe6",
   "metadata": {},
   "outputs": [
    {
     "ename": "SyntaxError",
     "evalue": "invalid syntax (hangman.py, line 68)",
     "output_type": "error",
     "traceback": [
      "Traceback \u001b[1;36m(most recent call last)\u001b[0m:\n",
      "  File \u001b[0;32m\"C:\\Users\\nilay\\anaconda3\\lib\\site-packages\\IPython\\core\\interactiveshell.py\"\u001b[0m, line \u001b[0;32m3444\u001b[0m, in \u001b[0;35mrun_code\u001b[0m\n    exec(code_obj, self.user_global_ns, self.user_ns)\n",
      "\u001b[1;36m  File \u001b[1;32m\"C:\\Users\\nilay\\AppData\\Local\\Temp/ipykernel_8652/1643610241.py\"\u001b[1;36m, line \u001b[1;32m2\u001b[1;36m, in \u001b[1;35m<module>\u001b[1;36m\u001b[0m\n\u001b[1;33m    from hangman.hangman import Hangman\u001b[0m\n",
      "\u001b[1;36m  File \u001b[1;32m\"C:\\Users\\nilay\\Desktop\\notebooks\\hangman\\hangman.py\"\u001b[1;36m, line \u001b[1;32m68\u001b[0m\n\u001b[1;33m    print 'Hidden word: {}'.format(self.word)\u001b[0m\n\u001b[1;37m          ^\u001b[0m\n\u001b[1;31mSyntaxError\u001b[0m\u001b[1;31m:\u001b[0m invalid syntax\n"
     ]
    }
   ],
   "source": [
    "#I got an error and I can't handle it.\n",
    "from hangman.hangman import Hangman\n",
    "from hangman.agent import Agent\n",
    "\n",
    "# number of simulations\n",
    "nsim = 1000\n",
    "# number of lives of guesser\n",
    "lives = 10\n",
    "# filename for wordlist\n",
    "filename = 'wordsEn.txt'\n",
    "# agent used\n",
    "agent = Agent\n",
    "\n",
    "def parseWordFile(filename):\n",
    "    wordlist = []\n",
    "    with open(filename, 'r') as f:\n",
    "        for line in f:\n",
    "            wordlist.append(line.strip().lower())\n",
    "\n",
    "    return wordlist\n",
    "\n",
    "# setup simulation\n",
    "wins = 0\n",
    "wordlist = parseWordFile('data/' + filename)\n",
    "\n",
    "# run games\n",
    "for sim in xrange(nsim):\n",
    "    a = agent(wordlist)\n",
    "    h = Hangman(a, a, lives=lives, verbose=False)\n",
    "    outcome = h.play()\n",
    "    wins += outcome"
   ]
  },
  {
   "cell_type": "markdown",
   "id": "c08e3b1c",
   "metadata": {},
   "source": [
    "### Exercise 2.5: While loops"
   ]
  },
  {
   "cell_type": "markdown",
   "id": "ed8bd64c",
   "metadata": {},
   "source": [
    "<font color = \"red\">Use a while loop to find the first 20 numbers that are divisible by 5, 7 and 11, and print them Hint:\n",
    "store the number found so far in a variable.</font>"
   ]
  },
  {
   "cell_type": "code",
   "execution_count": 9,
   "id": "37af98ec",
   "metadata": {},
   "outputs": [
    {
     "name": "stdout",
     "output_type": "stream",
     "text": [
      "385\n",
      "770\n",
      "1155\n",
      "1540\n",
      "1925\n",
      "2310\n",
      "2695\n",
      "3080\n",
      "3465\n",
      "3850\n",
      "4235\n",
      "4620\n",
      "5005\n",
      "5390\n",
      "5775\n",
      "6160\n",
      "6545\n",
      "6930\n",
      "7315\n",
      "7700\n"
     ]
    }
   ],
   "source": [
    "number_found = 0\n",
    "x = 11\n",
    "\n",
    "while (number_found < 20):\n",
    "    if (x % 5 == 0 and x % 7 == 0 and x % 11 == 0):\n",
    "        print(x)\n",
    "        number_found += 1\n",
    "    x += 1"
   ]
  },
  {
   "cell_type": "markdown",
   "id": "e32afe94",
   "metadata": {},
   "source": [
    "### Exercise 2.6: More while loops"
   ]
  },
  {
   "cell_type": "markdown",
   "id": "64602843",
   "metadata": {},
   "source": [
    "<font color = \"red\">The smallest number that is divisible by 2, 3 and 4 is 12. Find the smallest number that is divisible by\n",
    "all integers between 1 and 10.</font>"
   ]
  },
  {
   "cell_type": "code",
   "execution_count": 15,
   "id": "1769d896",
   "metadata": {},
   "outputs": [
    {
     "name": "stdout",
     "output_type": "stream",
     "text": [
      "2520\n"
     ]
    }
   ],
   "source": [
    "isFoundedSmallestNumber = False\n",
    "x = 10\n",
    "while (isFoundedSmallestNumber == False):\n",
    "    if (x%1==0 and x%2==0 and x%3==0 and x%4==0 and x%5==0 and x%6==0 and x%7==0 and x%8 ==0 and x%9 == 0 and x%10==0):\n",
    "            print(x)\n",
    "            isFoundedSmallestNumber = True\n",
    "    x += 1"
   ]
  },
  {
   "cell_type": "markdown",
   "id": "24fff5fc",
   "metadata": {},
   "source": [
    "### Exercise 2.7: Collatz sequence"
   ]
  },
  {
   "cell_type": "code",
   "execution_count": 50,
   "id": "96b86d69",
   "metadata": {},
   "outputs": [
    {
     "name": "stdout",
     "output_type": "stream",
     "text": [
      "310\n",
      "155.0\n",
      "466.0\n",
      "233.0\n",
      "700.0\n",
      "350.0\n",
      "175.0\n",
      "526.0\n",
      "263.0\n",
      "790.0\n",
      "395.0\n",
      "1186.0\n",
      "593.0\n",
      "1780.0\n",
      "890.0\n",
      "445.0\n",
      "1336.0\n",
      "668.0\n",
      "334.0\n",
      "167.0\n",
      "502.0\n",
      "251.0\n",
      "754.0\n",
      "377.0\n",
      "1132.0\n",
      "566.0\n",
      "283.0\n",
      "850.0\n",
      "425.0\n",
      "1276.0\n",
      "638.0\n",
      "319.0\n",
      "958.0\n",
      "479.0\n",
      "1438.0\n",
      "719.0\n",
      "2158.0\n",
      "1079.0\n",
      "3238.0\n",
      "1619.0\n",
      "4858.0\n",
      "2429.0\n",
      "7288.0\n",
      "3644.0\n",
      "1822.0\n",
      "911.0\n",
      "2734.0\n",
      "1367.0\n",
      "4102.0\n",
      "2051.0\n",
      "6154.0\n",
      "3077.0\n",
      "9232.0\n",
      "4616.0\n",
      "2308.0\n",
      "1154.0\n",
      "577.0\n",
      "1732.0\n",
      "866.0\n",
      "433.0\n",
      "1300.0\n",
      "650.0\n",
      "325.0\n",
      "976.0\n",
      "488.0\n",
      "244.0\n",
      "122.0\n",
      "61.0\n",
      "184.0\n",
      "92.0\n",
      "46.0\n",
      "23.0\n",
      "70.0\n",
      "35.0\n",
      "106.0\n",
      "53.0\n",
      "160.0\n",
      "80.0\n",
      "40.0\n",
      "20.0\n",
      "10.0\n",
      "5.0\n",
      "16.0\n",
      "8.0\n",
      "4.0\n",
      "2.0\n",
      "1.0\n"
     ]
    }
   ],
   "source": [
    "collatz = 103\n",
    "while (collatz != 1):\n",
    "    #if the number is even\n",
    "    if (collatz % 2 == 0): \n",
    "        collatz = collatz / 2\n",
    "        print (collatz)\n",
    "    #if the number is odd\n",
    "    else :\n",
    "        collatz = 3 * collatz + 1\n",
    "        print (collatz)"
   ]
  },
  {
   "cell_type": "markdown",
   "id": "457753f4",
   "metadata": {},
   "source": [
    "# 3 Functions"
   ]
  },
  {
   "cell_type": "markdown",
   "id": "515d0e2f",
   "metadata": {},
   "source": [
    "### Exercise 3.1: Hello"
   ]
  },
  {
   "cell_type": "code",
   "execution_count": 47,
   "id": "938a8a37",
   "metadata": {},
   "outputs": [
    {
     "name": "stdout",
     "output_type": "stream",
     "text": [
      "Hello, world!\n"
     ]
    }
   ],
   "source": [
    "#a)\n",
    "#Write a function hello_world that prints ’Hello, world!’\n",
    "\n",
    "def helloWorld():\n",
    "    print(\"Hello, world!\")\n",
    "\n",
    "helloWorld()"
   ]
  },
  {
   "cell_type": "code",
   "execution_count": 48,
   "id": "30598cd6",
   "metadata": {},
   "outputs": [
    {
     "name": "stdout",
     "output_type": "stream",
     "text": [
      "Hello, Nilay!\n"
     ]
    }
   ],
   "source": [
    "#b)\n",
    "#Write a function hello_name(name) that prints ’Hello, name!’ where name is a string\n",
    "\n",
    "def hello(name):\n",
    "    print(\"Hello, \"+ name + \"!\")\n",
    "    \n",
    "hello(\"Nilay\")"
   ]
  },
  {
   "cell_type": "markdown",
   "id": "698c2718",
   "metadata": {},
   "source": [
    "#c\n",
    "\n",
    "<font color = \"red\">Explain the difference between the print and return keywords. What would change if instead of print you would use return?</font\n",
    "\n",
    "<font color = \"green\">When we use print, it shows a value in the console.</font>\n",
    "\n",
    "<font color = \"green\">When we use return it gives back a value from a function.</font>\n",
    "    \n",
    "<font color = \"green\">If we use return instead of print, the value would be unseen by the user, but it would be used by the computer in further functions.</font>"
   ]
  },
  {
   "cell_type": "markdown",
   "id": "69aeea2f",
   "metadata": {},
   "source": [
    "### Exercise 3.2: Polynomial"
   ]
  },
  {
   "cell_type": "code",
   "execution_count": 31,
   "id": "78cde549",
   "metadata": {},
   "outputs": [
    {
     "data": {
      "text/plain": [
       "26"
      ]
     },
     "execution_count": 31,
     "metadata": {},
     "output_type": "execute_result"
    }
   ],
   "source": [
    "#Write a function that evaluates the polynomial 3x^2 − x + 2.\n",
    "import math\n",
    "def polynomial(x):\n",
    "    result = 3*pow(x,2)-x+2\n",
    "    return result\n",
    "\n",
    "polynomial(3)"
   ]
  },
  {
   "cell_type": "markdown",
   "id": "bbb7b1ad",
   "metadata": {},
   "source": [
    "### Exercise 3.3: Maximum"
   ]
  },
  {
   "cell_type": "markdown",
   "id": "f804d761",
   "metadata": {},
   "source": [
    "<font color = \"red\">Write a function my_max(x,y) that returns the maximum of x and y. Do not use the max function, but use if instead in following two ways:</font>"
   ]
  },
  {
   "cell_type": "code",
   "execution_count": 49,
   "id": "9d609586",
   "metadata": {},
   "outputs": [
    {
     "data": {
      "text/plain": [
       "7"
      ]
     },
     "execution_count": 49,
     "metadata": {},
     "output_type": "execute_result"
    }
   ],
   "source": [
    "#a)\n",
    "#Use both if and else.\n",
    "def my_max(x,y):\n",
    "    if x > y:\n",
    "        return x\n",
    "    else:\n",
    "        return y\n",
    "    \n",
    "my_max(5,7)"
   ]
  },
  {
   "cell_type": "code",
   "execution_count": 50,
   "id": "816ffb2c",
   "metadata": {},
   "outputs": [
    {
     "data": {
      "text/plain": [
       "7"
      ]
     },
     "execution_count": 50,
     "metadata": {},
     "output_type": "execute_result"
    }
   ],
   "source": [
    "#b)\n",
    "#Use if but not else (nor elif).\n",
    "\n",
    "def my_max(x,y):\n",
    "    if x > y:\n",
    "        return x\n",
    "    elif y > x:\n",
    "        return y\n",
    "    \n",
    "my_max(5,7)"
   ]
  },
  {
   "cell_type": "markdown",
   "id": "50577ecd",
   "metadata": {},
   "source": [
    "### Exercise 3.4: Primes"
   ]
  },
  {
   "cell_type": "code",
   "execution_count": 51,
   "id": "bee2fe02",
   "metadata": {},
   "outputs": [
    {
     "data": {
      "text/plain": [
       "True"
      ]
     },
     "execution_count": 51,
     "metadata": {},
     "output_type": "execute_result"
    }
   ],
   "source": [
    "#a)\n",
    "#Write a function is_prime(n) that returns True only if n is prime.\n",
    "def is_prime(n):\n",
    "    if n > 1:  \n",
    "        for i in range(2,n):  \n",
    "            if (n % i) == 0:  \n",
    "                return False\n",
    "        return True\n",
    "    else:\n",
    "        return False\n",
    "    \n",
    "is_prime(5)"
   ]
  },
  {
   "cell_type": "code",
   "execution_count": 54,
   "id": "e39c3395",
   "metadata": {},
   "outputs": [
    {
     "data": {
      "text/plain": [
       "True"
      ]
     },
     "execution_count": 54,
     "metadata": {},
     "output_type": "execute_result"
    }
   ],
   "source": [
    "#b)\n",
    "#Note that apart from 2 and 3, all primes are of the form 6k ± 1 (though not all numbers of the\n",
    "#form 6k ± 1 are prime of course). Using this, we can improve the computation time by a factor 3.\n",
    "#Update your function to use this.\n",
    "def is_prime_advanced(n):\n",
    "    if (n == 2):\n",
    "        return True\n",
    "    elif (n == 3):\n",
    "        return True\n",
    "    elif (n%6 == 1 or n%6 == 5):\n",
    "        if(n >= 1):\n",
    "            n = int(n)\n",
    "            for i in range (2, n):\n",
    "                if(n % i == 0):\n",
    "                    return False\n",
    "            return True\n",
    "        else:\n",
    "            return False\n",
    "    else:\n",
    "        return False\n",
    "\n",
    "is_prime_advanced(29)"
   ]
  },
  {
   "cell_type": "code",
   "execution_count": 55,
   "id": "a2a4eb80",
   "metadata": {},
   "outputs": [
    {
     "name": "stdout",
     "output_type": "stream",
     "text": [
      "2\n",
      "3\n",
      "5\n",
      "7\n",
      "11\n",
      "13\n"
     ]
    }
   ],
   "source": [
    "#c)\n",
    "#Write a function that returns all primes up to n.\n",
    "def all_primes(n):\n",
    "    for i in range (2, n):\n",
    "        if (is_prime(i)):\n",
    "            print(i)\n",
    "            \n",
    "all_primes(14)"
   ]
  },
  {
   "cell_type": "code",
   "execution_count": 57,
   "id": "ddbe81c7",
   "metadata": {},
   "outputs": [
    {
     "name": "stdout",
     "output_type": "stream",
     "text": [
      "2\n",
      "3\n",
      "5\n",
      "7\n",
      "11\n",
      "13\n",
      "17\n",
      "19\n",
      "23\n",
      "29\n"
     ]
    }
   ],
   "source": [
    "#d)\n",
    "#Write a function that returns the first n primes.\n",
    "def firstPrimes(n):\n",
    "    primes_number = 0\n",
    "    number = 0\n",
    "    while primes_number < n:\n",
    "        if (is_prime(number)):\n",
    "            print (number)\n",
    "            primes_number += 1\n",
    "        \n",
    "        number += 1\n",
    "        \n",
    "firstPrimes(10)"
   ]
  },
  {
   "cell_type": "markdown",
   "id": "3e8d855b",
   "metadata": {},
   "source": [
    "### Exercise 3.5: Root finding"
   ]
  },
  {
   "cell_type": "code",
   "execution_count": 59,
   "id": "daa6b444",
   "metadata": {},
   "outputs": [
    {
     "name": "stdout",
     "output_type": "stream",
     "text": [
      "The value of root is :  -2.5989\n"
     ]
    }
   ],
   "source": [
    "#a), b), c)\n",
    "def f(x):\n",
    "    return x*x*x - x + 15\n",
    "\n",
    "def root(a,b): \n",
    "    if(f(a) > 0 and f(b) > 0):\n",
    "        print(\"function evals have the same sign\") \n",
    "    elif(f(a) < 0 and f(b) < 0):\n",
    "        print(\"function evals have the same sign\")\n",
    "    else:\n",
    "        c = a\n",
    "        while ((b-a) >= 0.01):\n",
    "            #middle point\n",
    "            c = (a+b)/2\n",
    "\n",
    "            #Checking if middle point is root\n",
    "            if (f(c) == 0.0):\n",
    "                break\n",
    "            if (f(c)*f(a) < 0):\n",
    "                b = c\n",
    "            else:\n",
    "                a = c\n",
    "\n",
    "        print(\"The value of root is : \",\"%.4f\"%c)\n",
    "    \n",
    "#initial values for a and b\n",
    "a = float(-20)\n",
    "b = float(30)\n",
    "root(a, b)"
   ]
  },
  {
   "cell_type": "code",
   "execution_count": null,
   "id": "14aa3a14",
   "metadata": {},
   "outputs": [],
   "source": []
  }
 ],
 "metadata": {
  "kernelspec": {
   "display_name": "Python 3 (ipykernel)",
   "language": "python",
   "name": "python3"
  },
  "language_info": {
   "codemirror_mode": {
    "name": "ipython",
    "version": 3
   },
   "file_extension": ".py",
   "mimetype": "text/x-python",
   "name": "python",
   "nbconvert_exporter": "python",
   "pygments_lexer": "ipython3",
   "version": "3.9.7"
  }
 },
 "nbformat": 4,
 "nbformat_minor": 5
}
